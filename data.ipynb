{
  "nbformat": 4,
  "nbformat_minor": 0,
  "metadata": {
    "colab": {
      "provenance": [],
      "mount_file_id": "https://github.com/indracharan-png/Titanic-Machine-Learning-from-Disaster-kaggle-/blob/main/data.ipynb",
      "authorship_tag": "ABX9TyNbhdv4r62+lHCW+rOCb+pg",
      "include_colab_link": true
    },
    "kernelspec": {
      "name": "python3",
      "display_name": "Python 3"
    },
    "language_info": {
      "name": "python"
    }
  },
  "cells": [
    {
      "cell_type": "markdown",
      "metadata": {
        "id": "view-in-github",
        "colab_type": "text"
      },
      "source": [
        "<a href=\"https://colab.research.google.com/github/indracharan-png/Titanic-Machine-Learning-from-Disaster-kaggle-/blob/main/data.ipynb\" target=\"_parent\"><img src=\"https://colab.research.google.com/assets/colab-badge.svg\" alt=\"Open In Colab\"/></a>"
      ]
    },
    {
      "cell_type": "code",
      "execution_count": 12,
      "metadata": {
        "colab": {
          "base_uri": "https://localhost:8080/",
          "height": 106
        },
        "id": "iNKGvJEjVgVF",
        "outputId": "850bcb2f-3325-4c29-84cf-f98c05aa2103"
      },
      "outputs": [
        {
          "output_type": "error",
          "ename": "SyntaxError",
          "evalue": "invalid syntax (ipython-input-2695234875.py, line 99)",
          "traceback": [
            "\u001b[0;36m  File \u001b[0;32m\"/tmp/ipython-input-2695234875.py\"\u001b[0;36m, line \u001b[0;32m99\u001b[0m\n\u001b[0;31m    numeric_tranformer =\u001b[0m\n\u001b[0m                         ^\u001b[0m\n\u001b[0;31mSyntaxError\u001b[0m\u001b[0;31m:\u001b[0m invalid syntax\n"
          ]
        }
      ],
      "source": [
        "import pandas as pd\n",
        "import regex as re\n",
        "import numpy as np\n",
        "import random\n",
        "from sklearn.model_selection import train_test_split\n",
        "from sklearn.pipeline import Pipeline\n",
        "from sklearn.impute import SimpleImputer\n",
        "from sklearn.preprocessing import StandardScalar, OneHotEncoder\n",
        "\n",
        "\n",
        "RANDOM_STATE = 42\n",
        "\n",
        "# 1. Data cleaning and preprocessing\n",
        "\n",
        "def preprocess_data(df):\n",
        "    # Convert the column names from camelCase to snake_case\n",
        "    df.columns = [re.sub(r'(?<!^)(?=[A-Z])', '_', col_name).lower() for col_name in df.columns]\n",
        "\n",
        "    df = df.copy()\n",
        "\n",
        "    # Impute the 'age' feature using stratified random sampling based on 'pclass' and 'sex' features\n",
        "    for (pclass, sex), group in df.groupby(['pclass', 'sex']):\n",
        "        # Select indices in a group where 'age' is null\n",
        "        missing_indices = group['age'].index[group['age'].isna()]\n",
        "\n",
        "        missing_size = len(missing_indices)\n",
        "\n",
        "\n",
        "        # Compute the donor data points from the current group\n",
        "        donors = group['age'].dropna().values\n",
        "\n",
        "        # Falback-1: If no donors are avaialble in the group, compute donors from other groups\n",
        "        if donors.size == 0:\n",
        "            donors = df.loc[(df['sex'] == sex) & (df['age'].notna()), 'age'].values\n",
        "\n",
        "        # Fallback-2: Compute the donors from the global age data coloumn\n",
        "        if donors.size == 0:\n",
        "            donors = df.loc[df['age'].notna(), 'age'].values\n",
        "\n",
        "\n",
        "        sampled_ages = np.random.choice(donors, size = missing_size, replace=True)\n",
        "        df.loc[missing_indices, 'age'] = sampled_ages\n",
        "\n",
        "\n",
        "\n",
        "\n",
        "    # Fill up the empty cells in 'cabin' feature with 'Unknown' string, which indicates missing information\n",
        "    df['cabin'] = df['cabin'].fillna('Unknown')\n",
        "    # Extract the deck information from the first letter of the 'cabin' feature, and create a new feature 'deck' ('U' for 'Unknown')\n",
        "    df['deck'] = df['cabin'].str[0]\n",
        "\n",
        "    # Built a 'title' feature from 'name' feature\n",
        "    df['title'] = df['name'].str.extract(r',\\s*([^\\.]+)\\.', expand=False).str.strip().str.lower()\n",
        "\n",
        "    # Group titles into few buckets\n",
        "    title_grouping_map = {}\n",
        "    for title in df['title'].unique():\n",
        "        if title not in ['mr', 'mrs', 'miss', 'master']:\n",
        "            title_grouping_map[title] = 'rare'\n",
        "        else:\n",
        "            title_grouping_map[title] = title\n",
        "    df['title'].replace(title_grouping_map)\n",
        "    df['title'] = df['title'].fillna('Unknown')\n",
        "\n",
        "    # Compute family size if exists for each person\n",
        "    df['family_size'] = df['sib_sp'] + df['parch'] + 1\n",
        "    df['is_alone'] = (df['family_size'] == 1).astype(int)\n",
        "\n",
        "    # Extract the ticket prefix info\n",
        "    df['ticket_prefix'] = (\n",
        "        df['ticket'].astype(str)\n",
        "        .str.replace(r'[^A-Za-z0-9]', ' ', regex=True)\n",
        "        .str.split().str[0]\n",
        "        .fillna('UNK')\n",
        "    )\n",
        "\n",
        "    return df\n",
        "\n",
        "\n",
        "# 2. Load & Split\n",
        "\n",
        "df = pd.read_csv('train.csv')\n",
        "df = preprocess_data(df)\n",
        "\n",
        "y = df['survived']\n",
        "X = df.drop(columns=['survived'])\n",
        "\n",
        "X_train, X_test, y_train, y_test = train_test_split(\n",
        "    X, y, stratify=y, random_state = RANDOM_STATE\n",
        "    )\n",
        "\n",
        "\n",
        "# 3. Column groups\n",
        "\n",
        "numeric_features = ['pclass', 'age', 'sib_sp', 'parch', 'family_size', 'is_alone']\n",
        "categorical_features = ['sex', 'deck', 'deck', 'title', 'ticket_prefix']\n",
        "\n",
        "\n",
        "# 4. Preprocessors\n",
        "\n",
        "numeric_transformer = Pipeline(steps=[\n",
        "    ('imputer', SimpleImputer(strategy='median')),\n",
        "    ('scalar', StandardScalar(with_mean=True, with_std=True))\n",
        "])\n",
        "\n",
        "categorical_tranformer = Pipeline(steps=[\n",
        "    ('imputer', SimpleImputer(strategy='most_frequent')),\n",
        "    ('onehot', OneHotEncoder(handle_unknown='ignore', sparse_outpu=False))\n",
        "])\n",
        "\n",
        "\n",
        "\n",
        "\n",
        "\n",
        "df = pd.read_csv('train.csv')\n",
        "print(df.info())\n",
        "# print(df.describe(include='all'))\n",
        "print(df['Pclass'].unique())\n",
        "print(df['Cabin'].head())\n",
        "df = preprocess_data(df)\n",
        "print(df.info())\n",
        "print(df['pclass'].head())\n",
        "\n"
      ]
    },
    {
      "cell_type": "code",
      "source": [],
      "metadata": {
        "id": "lWrX9_elQqof"
      },
      "execution_count": null,
      "outputs": []
    }
  ]
}