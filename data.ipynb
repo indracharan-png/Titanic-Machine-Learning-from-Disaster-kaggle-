{
  "nbformat": 4,
  "nbformat_minor": 0,
  "metadata": {
    "colab": {
      "provenance": [],
      "authorship_tag": "ABX9TyM0Ykq5KHVegCEjHy3wWGzd",
      "include_colab_link": true
    },
    "kernelspec": {
      "name": "python3",
      "display_name": "Python 3"
    },
    "language_info": {
      "name": "python"
    }
  },
  "cells": [
    {
      "cell_type": "markdown",
      "metadata": {
        "id": "view-in-github",
        "colab_type": "text"
      },
      "source": [
        "<a href=\"https://colab.research.google.com/github/indracharan-png/Titanic-Machine-Learning-from-Disaster-kaggle-/blob/main/data.ipynb\" target=\"_parent\"><img src=\"https://colab.research.google.com/assets/colab-badge.svg\" alt=\"Open In Colab\"/></a>"
      ]
    },
    {
      "cell_type": "code",
      "execution_count": null,
      "metadata": {
        "colab": {
          "base_uri": "https://localhost:8080/"
        },
        "id": "iNKGvJEjVgVF",
        "outputId": "5f8a6cde-dee7-44a6-825d-d5fef605ddb7"
      },
      "outputs": [
        {
          "output_type": "stream",
          "name": "stdout",
          "text": [
            "<class 'pandas.core.frame.DataFrame'>\n",
            "RangeIndex: 891 entries, 0 to 890\n",
            "Data columns (total 12 columns):\n",
            " #   Column       Non-Null Count  Dtype  \n",
            "---  ------       --------------  -----  \n",
            " 0   PassengerId  891 non-null    int64  \n",
            " 1   Survived     891 non-null    int64  \n",
            " 2   Pclass       891 non-null    int64  \n",
            " 3   Name         891 non-null    object \n",
            " 4   Sex          891 non-null    object \n",
            " 5   Age          714 non-null    float64\n",
            " 6   SibSp        891 non-null    int64  \n",
            " 7   Parch        891 non-null    int64  \n",
            " 8   Ticket       891 non-null    object \n",
            " 9   Fare         891 non-null    float64\n",
            " 10  Cabin        204 non-null    object \n",
            " 11  Embarked     889 non-null    object \n",
            "dtypes: float64(2), int64(5), object(5)\n",
            "memory usage: 83.7+ KB\n",
            "<class 'pandas.core.frame.DataFrame'>\n",
            "RangeIndex: 891 entries, 0 to 890\n",
            "Data columns (total 13 columns):\n",
            " #   Column        Non-Null Count  Dtype  \n",
            "---  ------        --------------  -----  \n",
            " 0   passenger_id  891 non-null    int64  \n",
            " 1   survived      891 non-null    int64  \n",
            " 2   pclass        891 non-null    int64  \n",
            " 3   name          891 non-null    object \n",
            " 4   sex           891 non-null    object \n",
            " 5   age           891 non-null    float64\n",
            " 6   sib_sp        891 non-null    int64  \n",
            " 7   parch         891 non-null    int64  \n",
            " 8   ticket        891 non-null    object \n",
            " 9   fare          891 non-null    float64\n",
            " 10  cabin         891 non-null    object \n",
            " 11  embarked      889 non-null    object \n",
            " 12  deck          891 non-null    object \n",
            "dtypes: float64(2), int64(5), object(6)\n",
            "memory usage: 90.6+ KB\n"
          ]
        }
      ],
      "source": [
        "import pandas as pd\n",
        "import regex as re\n",
        "import numpy as np\n",
        "import random\n",
        "\n",
        "\n",
        "\n",
        "\n",
        "def preprocess_Data(df):\n",
        "    # Convert the column names from camelCase to snake_case\n",
        "    df.columns = [re.sub(r'(?<!^)(?=[A-Z])', '_', col_name).lower() for col_name in df.columns]\n",
        "\n",
        "    df = df.copy()\n",
        "\n",
        "    # Impute the 'age' feature using stratified random sampling based on 'pclass' and 'sex' features\n",
        "    for (pclass, sex), group in df.groupby(['pclass', 'sex']):\n",
        "        # Select indices in a group where 'age' is null\n",
        "        missing_indices = group['age'].index[group['age'].isna()]\n",
        "\n",
        "        missing_size = len(missing_indices)\n",
        "        random.seed(42)\n",
        "\n",
        "        # Compute the donor data points from the current group\n",
        "        donors = group['age'].dropna().values\n",
        "\n",
        "        # Falback-1: If no donors are avaialble in the group, compute donors from other groups\n",
        "        if donors.size == 0:\n",
        "            donors = df.loc[(df['sex'] == sex) & (df['age'].notna()), 'age'].values\n",
        "\n",
        "        # Fallback-2: Compute the donors from the global age data coloumn\n",
        "        if donors.size == 0:\n",
        "            donors = df.loc[df['age'].notna(), 'age'].values\n",
        "\n",
        "\n",
        "        sampled_ages = np.random.choice(donors, size = missing_size, replace=True)\n",
        "        df.loc[missing_indices, 'age'] = sampled_ages\n",
        "\n",
        "\n",
        "\n",
        "\n",
        "    # Fill up the empty cells in 'cabin' feature with 'Unknown' string, which indicates missing information\n",
        "    df['cabin'] = df['cabin'].fillna('Unknown')\n",
        "    # Extract the deck information from the first letter of the 'cabin' feature, and create a new feature 'deck' ('U' for 'Unknown')\n",
        "    df['deck'] = df['cabin'].str[0]\n",
        "\n",
        "    return df\n",
        "\n",
        "\n",
        "if __name__ == \"__main__\":\n",
        "    # Load the CSV file into a DataFrame\n",
        "    df = pd.read_csv('train.csv')\n",
        "\n",
        "    df.info()\n",
        "\n",
        "    df_copy = preprocess_Data(df)\n",
        "\n",
        "    df_copy.info()\n",
        "\n",
        "    print(\"Hello world\")\n"
      ]
    }
  ]
}